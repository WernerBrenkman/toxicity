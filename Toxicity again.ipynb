{
 "cells": [
  {
   "cell_type": "code",
   "execution_count": 112,
   "metadata": {},
   "outputs": [],
   "source": [
    "import numpy as np\n",
    "import pandas as pd\n",
    "\n",
    "from sklearn.feature_extraction.text import TfidfVectorizer\n",
    "from sklearn.linear_model import LogisticRegression\n",
    "from sklearn.model_selection import cross_val_score\n",
    "from scipy.sparse import hstack"
   ]
  },
  {
   "cell_type": "code",
   "execution_count": 113,
   "metadata": {},
   "outputs": [],
   "source": [
    "class_names = ['obscene', 'threat']\n",
    "\n",
    "train = pd.read_csv('./data/train.csv').fillna(' ')#.iloc[:10]\n",
    "test = pd.read_csv('./data/test.csv').fillna(' ')#.iloc[:10]"
   ]
  },
  {
   "cell_type": "code",
   "execution_count": 114,
   "metadata": {
    "scrolled": true
   },
   "outputs": [],
   "source": [
    "train_text = train['comment_text']\n",
    "test_text = test['comment_text']\n",
    "all_text = pd.concat([train_text, test_text])\n",
    "# all_text"
   ]
  },
  {
   "cell_type": "code",
   "execution_count": 115,
   "metadata": {},
   "outputs": [],
   "source": [
    "word_vectorizer = TfidfVectorizer(\n",
    "    sublinear_tf=True,\n",
    "    strip_accents='unicode',\n",
    "    analyzer='word',\n",
    "    token_pattern=r'([A-z]+)', #r'\\w{1,}',\n",
    "    stop_words='english',\n",
    "    ngram_range=(1, 2),\n",
    "    max_features=10000)\n",
    "word_vectorizer.fit(all_text)\n",
    "train_word_features = word_vectorizer.transform(train_text)\n",
    "# test_word_features = word_vectorizer.transform(test_text)\n"
   ]
  },
  {
   "cell_type": "code",
   "execution_count": 116,
   "metadata": {},
   "outputs": [],
   "source": [
    "# word_vectorizer.vocabulary_"
   ]
  },
  {
   "cell_type": "code",
   "execution_count": 117,
   "metadata": {},
   "outputs": [],
   "source": [
    "train_features = train_word_features #hstack([train_char_features, train_word_features])\n",
    "# test_features = test_word_features #hstack([test_char_features, test_word_features])\n"
   ]
  },
  {
   "cell_type": "code",
   "execution_count": 118,
   "metadata": {
    "scrolled": true
   },
   "outputs": [
    {
     "name": "stdout",
     "output_type": "stream",
     "text": [
      "CV score for class obscene is 0.979876252013\n"
     ]
    }
   ],
   "source": [
    "class_name = class_names[0]\n",
    "\n",
    "train_target = train[class_name]\n",
    "classifier = LogisticRegression(C=0.1, solver='sag')\n",
    "\n",
    "cv_score = np.mean(cross_val_score(classifier, train_features, train_target, cv=3, scoring='roc_auc'))\n",
    "print('CV score for class {} is {}'.format(class_name, cv_score))\n",
    "\n",
    "classifier.fit(train_features, train_target)\n",
    "\n",
    "predictions = pd.DataFrame(data=zip(train[class_name], classifier.predict(train_features)), \n",
    "                           columns=['Actual', 'Predicted'])"
   ]
  },
  {
   "cell_type": "code",
   "execution_count": 128,
   "metadata": {},
   "outputs": [
    {
     "name": "stdout",
     "output_type": "stream",
     "text": [
      "Overall accuracy: 0.968258643488 \n",
      "True positive rate: 0.414131849923\n"
     ]
    }
   ],
   "source": [
    "print('''Overall accuracy: {} \n",
    "True positive rate: {}'''.\n",
    "      format(np.mean(predictions['Actual'] == predictions['Predicted']), \n",
    "             np.mean(predictions[predictions['Actual'] == 1]['Actual'] == predictions[predictions['Actual'] == 1]['Predicted'])))\n",
    "\n",
    "\n"
   ]
  },
  {
   "cell_type": "code",
   "execution_count": 120,
   "metadata": {},
   "outputs": [
    {
     "data": {
      "text/plain": [
       "0.41413184992306784"
      ]
     },
     "execution_count": 120,
     "metadata": {},
     "output_type": "execute_result"
    }
   ],
   "source": [
    "np.mean(predictions[predictions['Actual'] == 1]['Actual'] == predictions[predictions['Actual'] == 1]['Predicted'])"
   ]
  },
  {
   "cell_type": "code",
   "execution_count": null,
   "metadata": {},
   "outputs": [],
   "source": []
  }
 ],
 "metadata": {
  "kernelspec": {
   "display_name": "Python 2",
   "language": "python",
   "name": "python2"
  }
 },
 "nbformat": 4,
 "nbformat_minor": 2
}
